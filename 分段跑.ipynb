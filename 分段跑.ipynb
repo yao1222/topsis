{
 "cells": [
  {
   "cell_type": "code",
   "execution_count": 189,
   "id": "complimentary-smith",
   "metadata": {},
   "outputs": [],
   "source": [
    "import numpy as np\n",
    "import pandas as pd"
   ]
  },
  {
   "cell_type": "code",
   "execution_count": 190,
   "id": "challenging-guitar",
   "metadata": {},
   "outputs": [
    {
     "name": "stdout",
     "output_type": "stream",
     "text": [
      "  Unnamed: 0  品質  交期   價格   服務\n",
      "0   Vendor A  90  10  100  100\n",
      "1   Vendor B  90  10  100  100\n",
      "2   Vendor C  80  30  200   80\n",
      "3   Vendor D  70  30  200   80\n",
      "4   Vendor E  60  40  200   80\n",
      "5   Vendor F  60  40  200   80\n"
     ]
    },
    {
     "data": {
      "text/html": [
       "<div>\n",
       "<style scoped>\n",
       "    .dataframe tbody tr th:only-of-type {\n",
       "        vertical-align: middle;\n",
       "    }\n",
       "\n",
       "    .dataframe tbody tr th {\n",
       "        vertical-align: top;\n",
       "    }\n",
       "\n",
       "    .dataframe thead th {\n",
       "        text-align: right;\n",
       "    }\n",
       "</style>\n",
       "<table border=\"1\" class=\"dataframe\">\n",
       "  <thead>\n",
       "    <tr style=\"text-align: right;\">\n",
       "      <th></th>\n",
       "      <th>Unnamed: 0</th>\n",
       "      <th>品質</th>\n",
       "      <th>交期</th>\n",
       "      <th>價格</th>\n",
       "      <th>服務</th>\n",
       "    </tr>\n",
       "  </thead>\n",
       "  <tbody>\n",
       "    <tr>\n",
       "      <th>0</th>\n",
       "      <td>Vendor A</td>\n",
       "      <td>90</td>\n",
       "      <td>10</td>\n",
       "      <td>100</td>\n",
       "      <td>100</td>\n",
       "    </tr>\n",
       "    <tr>\n",
       "      <th>1</th>\n",
       "      <td>Vendor B</td>\n",
       "      <td>90</td>\n",
       "      <td>10</td>\n",
       "      <td>100</td>\n",
       "      <td>100</td>\n",
       "    </tr>\n",
       "    <tr>\n",
       "      <th>2</th>\n",
       "      <td>Vendor C</td>\n",
       "      <td>80</td>\n",
       "      <td>30</td>\n",
       "      <td>200</td>\n",
       "      <td>80</td>\n",
       "    </tr>\n",
       "    <tr>\n",
       "      <th>3</th>\n",
       "      <td>Vendor D</td>\n",
       "      <td>70</td>\n",
       "      <td>30</td>\n",
       "      <td>200</td>\n",
       "      <td>80</td>\n",
       "    </tr>\n",
       "    <tr>\n",
       "      <th>4</th>\n",
       "      <td>Vendor E</td>\n",
       "      <td>60</td>\n",
       "      <td>40</td>\n",
       "      <td>200</td>\n",
       "      <td>80</td>\n",
       "    </tr>\n",
       "    <tr>\n",
       "      <th>5</th>\n",
       "      <td>Vendor F</td>\n",
       "      <td>60</td>\n",
       "      <td>40</td>\n",
       "      <td>200</td>\n",
       "      <td>80</td>\n",
       "    </tr>\n",
       "  </tbody>\n",
       "</table>\n",
       "</div>"
      ],
      "text/plain": [
       "  Unnamed: 0  品質  交期   價格   服務\n",
       "0   Vendor A  90  10  100  100\n",
       "1   Vendor B  90  10  100  100\n",
       "2   Vendor C  80  30  200   80\n",
       "3   Vendor D  70  30  200   80\n",
       "4   Vendor E  60  40  200   80\n",
       "5   Vendor F  60  40  200   80"
      ]
     },
     "execution_count": 190,
     "metadata": {},
     "output_type": "execute_result"
    }
   ],
   "source": [
    "df = pd.read_csv('../Desktop/vendorChoose.csv',encoding = 'big5') \n",
    "print(df) \n",
    "pd.DataFrame(df)"
   ]
  },
  {
   "cell_type": "code",
   "execution_count": 254,
   "id": "interim-salad",
   "metadata": {
    "scrolled": true
   },
   "outputs": [
    {
     "name": "stdout",
     "output_type": "stream",
     "text": [
      "0\n",
      "['Vendor F']\n",
      "1\n",
      "['Vendor F', 60]\n",
      "2\n",
      "['Vendor F', 60, 40]\n",
      "3\n",
      "['Vendor F', 60, 40, 200]\n",
      "4\n",
      "['Vendor F', 60, 40, 200, 80]\n",
      "[['Vendor F', 60, 40, 200, 80], ['Vendor F', 60, 40, 200, 80], ['Vendor F', 60, 40, 200, 80], ['Vendor F', 60, 40, 200, 80], ['Vendor F', 60, 40, 200, 80], ['Vendor F', 60, 40, 200, 80]]\n"
     ]
    }
   ],
   "source": [
    "# Create an empty list \n",
    "Row_list =[] \n",
    "Name_list = []\n",
    "my_list = []\n",
    "\n",
    "count_col = df.shape[1]\n",
    "\n",
    "# Iterate over each row \n",
    "for index, rows in df.iterrows(): \n",
    "    # Create list for the current row \n",
    "    \n",
    "    if \n",
    "    my_list =[rows[1], rows[2], rows[3], rows[4]]\n",
    "    #for j in index<count_col:\n",
    "        #my_list.append(rows[index])\n",
    "    \n",
    "    # append the list to the final list \n",
    "    Row_list.append(my_list)\n",
    "    Name_list.append(rows[0])\n",
    "    \n",
    "print(Row_list)"
   ]
  },
  {
   "cell_type": "code",
   "execution_count": 192,
   "id": "chicken-binary",
   "metadata": {},
   "outputs": [],
   "source": [
    "C = None\n",
    "optimum_choice = None\n"
   ]
  },
  {
   "cell_type": "code",
   "execution_count": 193,
   "id": "gorgeous-holiday",
   "metadata": {},
   "outputs": [],
   "source": [
    "a= Row_list\n",
    "w=[1,1,1,1]\n",
    "I=[1,0,0,1]"
   ]
  },
  {
   "cell_type": "code",
   "execution_count": 194,
   "id": "excess-cocktail",
   "metadata": {},
   "outputs": [
    {
     "name": "stdout",
     "output_type": "stream",
     "text": [
      "[[ 90.  90.  80.  70.  60.  60.]\n",
      " [ 10.  10.  30.  30.  40.  40.]\n",
      " [100. 100. 200. 200. 200. 200.]\n",
      " [100. 100.  80.  80.  80.  80.]]\n"
     ]
    }
   ],
   "source": [
    "# Decision Matrix\n",
    "a = np.array(a, dtype=np.float).T\n",
    "print(a)\n",
    "#assert len(a.shape) == 2, \"Decision matrix a must be 2D\""
   ]
  },
  {
   "cell_type": "code",
   "execution_count": 195,
   "id": "executed-saskatchewan",
   "metadata": {},
   "outputs": [
    {
     "name": "stdout",
     "output_type": "stream",
     "text": [
      "(4, 6)\n",
      "24\n",
      "4\n"
     ]
    }
   ],
   "source": [
    "# Number of alternatives, aspects\n",
    "(n, J) = a.shape\n",
    "print((n,J))\n",
    "print(a.size)\n",
    "print(n)"
   ]
  },
  {
   "cell_type": "code",
   "execution_count": 196,
   "id": "quiet-dealer",
   "metadata": {},
   "outputs": [
    {
     "name": "stdout",
     "output_type": "stream",
     "text": [
      "4\n"
     ]
    }
   ],
   "source": [
    " # Weight matrix\n",
    "w = np.array(w, dtype=np.float)\n",
    "print(w.size)\n",
    "assert len(w.shape) == 1, \"Weights array must be 1D\"\n",
    "assert w.size == n, \"Weights array wrong length, \" + \"should be of length {}\".format(n)\n"
   ]
  },
  {
   "cell_type": "code",
   "execution_count": 197,
   "id": "varying-dominican",
   "metadata": {},
   "outputs": [
    {
     "name": "stdout",
     "output_type": "stream",
     "text": [
      "[0.25 0.25 0.25 0.25]\n"
     ]
    }
   ],
   "source": [
    "# Normalise weights to 1\n",
    "w = w/sum(w)\n",
    "print(w)"
   ]
  },
  {
   "cell_type": "code",
   "execution_count": 198,
   "id": "advised-termination",
   "metadata": {},
   "outputs": [
    {
     "name": "stdout",
     "output_type": "stream",
     "text": [
      "[1 0 0 1]\n"
     ]
    }
   ],
   "source": [
    " # Benefit (True) or Cost (False) criteria?\n",
    "I = np.array(I, dtype=np.int8)\n",
    "print(I)\n",
    "assert len(I.shape) == 1, \"Criterion array must be 1D\"\n",
    "assert len(I) == n, \"Criterion array wrong length, \" + \"should be of length {}\".format(n)"
   ]
  },
  {
   "cell_type": "code",
   "execution_count": 199,
   "id": "expired-weight",
   "metadata": {},
   "outputs": [
    {
     "name": "stdout",
     "output_type": "stream",
     "text": [
      "[0. 0. 0. 0.] [0. 0. 0. 0.]\n"
     ]
    }
   ],
   "source": [
    "# Initialise best/worst alternatives lists\n",
    "ab, aw = np.zeros(n), np.zeros(n)\n",
    "print(ab, aw)\n"
   ]
  },
  {
   "cell_type": "code",
   "execution_count": 200,
   "id": "built-string",
   "metadata": {},
   "outputs": [
    {
     "name": "stdout",
     "output_type": "stream",
     "text": [
      "[[ 90.  90.  80.  70.  60.  60.]\n",
      " [ 10.  10.  30.  30.  40.  40.]\n",
      " [100. 100. 200. 200. 200. 200.]\n",
      " [100. 100.  80.  80.  80.  80.]]\n",
      " \n",
      "[[186.2793601 ]\n",
      " [ 72.11102551]\n",
      " [424.26406871]\n",
      " [213.54156504]]\n",
      " \n",
      "[[0.48314531 0.48314531 0.4294625  0.37577969 0.32209688 0.32209688]\n",
      " [0.13867505 0.13867505 0.41602515 0.41602515 0.5547002  0.5547002 ]\n",
      " [0.23570226 0.23570226 0.47140452 0.47140452 0.47140452 0.47140452]\n",
      " [0.46829291 0.46829291 0.37463432 0.37463432 0.37463432 0.37463432]]\n"
     ]
    }
   ],
   "source": [
    "#def step1():\n",
    "\"\"\" TOPSIS Step 1\n",
    "Calculate the normalised decision matrix (self.r)\n",
    "\"\"\"\n",
    "print(a)\n",
    "print(' ')\n",
    "print(np.linalg.norm(a, axis=1)[:, np.newaxis])\n",
    "print(' ')\n",
    "r = a/np.array(np.linalg.norm(a, axis=1)[:, np.newaxis])\n",
    "print(r)\n"
   ]
  },
  {
   "cell_type": "code",
   "execution_count": 201,
   "id": "marine-manual",
   "metadata": {},
   "outputs": [
    {
     "name": "stdout",
     "output_type": "stream",
     "text": [
      "[[0.48314531 0.13867505 0.23570226 0.46829291]\n",
      " [0.48314531 0.13867505 0.23570226 0.46829291]\n",
      " [0.4294625  0.41602515 0.47140452 0.37463432]\n",
      " [0.37577969 0.41602515 0.47140452 0.37463432]\n",
      " [0.32209688 0.5547002  0.47140452 0.37463432]\n",
      " [0.32209688 0.5547002  0.47140452 0.37463432]]\n",
      " \n",
      "[0.25 0.25 0.25 0.25]\n",
      " \n",
      "[[0.12078633 0.12078633 0.10736563 0.09394492 0.08052422 0.08052422]\n",
      " [0.03466876 0.03466876 0.10400629 0.10400629 0.13867505 0.13867505]\n",
      " [0.05892557 0.05892557 0.11785113 0.11785113 0.11785113 0.11785113]\n",
      " [0.11707323 0.11707323 0.09365858 0.09365858 0.09365858 0.09365858]]\n"
     ]
    }
   ],
   "source": [
    "# def step2(self):\n",
    "\"\"\" TOPSIS Step 2\n",
    "Calculate the weighted normalised decision matrix\n",
    "Two transposes required so that indices are multiplied correctly:\n",
    "\"\"\"\n",
    "print(r.T)\n",
    "print(' ')\n",
    "print(w)\n",
    "print(' ')\n",
    "v = (w * r.T).T\n",
    "print(v)\n"
   ]
  },
  {
   "cell_type": "code",
   "execution_count": 202,
   "id": "marine-spider",
   "metadata": {},
   "outputs": [
    {
     "name": "stdout",
     "output_type": "stream",
     "text": [
      "[0.12078633 0.13867505 0.11785113 0.11707323]\n",
      "ab= [0.12078633 0.03466876 0.05892557 0.11707323]\n",
      "aw [0.08052422 0.13867505 0.11785113 0.09365858]\n"
     ]
    }
   ],
   "source": [
    "#def step3(self):\n",
    "\"\"\" TOPSIS Step 3\n",
    "Determine the ideal and negative-ideal solutions\n",
    "I[i] defines i as a member of the benefit criteria (True) or the cost\n",
    "criteria (False)\n",
    "\"\"\"\n",
    "# Calcualte ideal/negative ideals\n",
    "ab = np.max(v, axis=1) * I + np.min(v, axis=1) * (1 - I)\n",
    "aw = np.max(v, axis=1) * (1 - I) + np.min(v, axis=1) * I\n",
    "print(np.max(v, axis=1))\n",
    "print('ab=',ab)\n",
    "print('aw',aw)"
   ]
  },
  {
   "cell_type": "code",
   "execution_count": 203,
   "id": "impressed-choice",
   "metadata": {},
   "outputs": [
    {
     "name": "stdout",
     "output_type": "stream",
     "text": [
      "db= [0.         0.         0.09491194 0.09771705 0.12829191 0.12829191]\n",
      "dw= [0.12829191 0.12829191 0.043845   0.03717578 0.         0.        ]\n"
     ]
    }
   ],
   "source": [
    " #def step4(self):\n",
    "\"\"\" TOPSIS Step 4\n",
    "Calculate the separation measures, n-dimensional Euclidean distance\n",
    "\"\"\"\n",
    "# Create two n long arrays containing Eculidean distances\n",
    "# Save the ideal and negative-ideal solutions\n",
    "db = np.linalg.norm(v - ab[:,np.newaxis], axis=0)\n",
    "dw = np.linalg.norm(v - aw[:,np.newaxis], axis=0)\n",
    "print('db=',db)\n",
    "print('dw=',dw)\n"
   ]
  },
  {
   "cell_type": "code",
   "execution_count": 227,
   "id": "considerable-giant",
   "metadata": {},
   "outputs": [
    {
     "name": "stdout",
     "output_type": "stream",
     "text": [
      "C =  [1.         1.         0.31598421 0.27559492 0.         0.        ]\n",
      "showArgsort:  [4 5 3 2 0 1]\n",
      "--------好的-----------\n",
      "Good alternative\n",
      "Name: Vendor A(a[0]) is : [ 90.  10. 100. 100.]\n",
      "Name: Vendor B(a[1]) is : [ 90.  10. 100. 100.]\n",
      "--------不好的-----------\n",
      "Bad alternative\n",
      "Name: Vendor E(a[4]) is : [ 60.  40. 200.  80.]\n",
      "Name: Vendor F(a[5]) is : [ 60.  40. 200.  80.]\n"
     ]
    }
   ],
   "source": [
    "# def step5(self):\n",
    "\"\"\" TOPSIS Step 5 & 6\n",
    "Calculate the relative closeness to the ideal solution, then rank the\n",
    "preference order\n",
    "\"\"\"\n",
    "# Ignore division by zero errors\n",
    "#np.seterr(all='ignore')\n",
    "# Find relative closeness\n",
    "C = dw / (dw + db)\n",
    "print('C = ',C)\n",
    "\n",
    "showArgsort = C.argsort()\n",
    "print('showArgsort: ',showArgsort)\n",
    "\n",
    "get_length = len(C)\n",
    "#print(length)\n",
    "\n",
    "\n",
    "#--------好的-----------\n",
    "#找好的\n",
    "optimum_choice = C.argsort()[-1]\n",
    "count_good = 0\n",
    "opt_idx = []\n",
    "for i in range(get_length):\n",
    "    if C[i]==C[optimum_choice]:\n",
    "        #print('Name: {}(a[{}]) is : {}'.format(Name_list[i],i, a[:, i]))\n",
    "        count_good+=1\n",
    "        opt_idx.append(i)\n",
    "\n",
    "if count_good==0:\n",
    "    opt_idx.append(optimum_choice)\n",
    "\n",
    "\n",
    "#--------不好的----------- \n",
    "#找不好的\n",
    "bad_choice = C.argsort()[0]\n",
    "count_bad=0\n",
    "bad_idx=[]\n",
    "for j in range(get_length):\n",
    "    if C[j]==C[bad_choice]:\n",
    "        count_bad+=1\n",
    "        bad_idx.append(j)\n",
    "\n",
    "if count_bad==0:\n",
    "    bad_idx.append(bad_choice)\n",
    "\n",
    "print('--------好的-----------')\n",
    "print('Good alternative')\n",
    "for idx in opt_idx:\n",
    "    print('Name: {}(a[{}]) is : {}'.format(Name_list[idx],idx, a[:, idx]))\n",
    "\n",
    "print('--------不好的-----------')\n",
    "print('Bad alternative')\n",
    "for idx in bad_idx:\n",
    "    print('Name: {}(a[{}]) is : {}'.format(Name_list[idx],idx, a[:, idx]))\n"
   ]
  },
  {
   "cell_type": "code",
   "execution_count": null,
   "id": "toxic-shelter",
   "metadata": {},
   "outputs": [],
   "source": []
  },
  {
   "cell_type": "code",
   "execution_count": 107,
   "id": "alert-sound",
   "metadata": {},
   "outputs": [],
   "source": [
    "import csv"
   ]
  },
  {
   "cell_type": "code",
   "execution_count": 108,
   "id": "maritime-miracle",
   "metadata": {},
   "outputs": [
    {
     "name": "stdout",
     "output_type": "stream",
     "text": [
      "['', '品質', '交期', '價格', '服務']\n",
      "['Vendor A', '90', '10', '100', '100']\n",
      "['Vendor B', '90', '10', '100', '100']\n",
      "['Vendor C', '80', '30', '200', '80']\n",
      "['Vendor D', '70', '30', '200', '80']\n",
      "['Vendor E', '60', '40', '200', '80']\n",
      "['Vendor F', '60', '40', '200', '80']\n"
     ]
    }
   ],
   "source": [
    "# 開啟 CSV 檔案\n",
    "with open('../Desktop/vendorChoose.csv', newline='') as csvfile:\n",
    "\n",
    "  # 讀取 CSV 檔案內容\n",
    "  rows = csv.reader(csvfile)\n",
    "\n",
    "  # 以迴圈輸出每一列\n",
    "  for row in rows:\n",
    "    print(row)"
   ]
  },
  {
   "cell_type": "code",
   "execution_count": null,
   "id": "assured-coupon",
   "metadata": {},
   "outputs": [],
   "source": []
  },
  {
   "cell_type": "code",
   "execution_count": null,
   "id": "micro-observer",
   "metadata": {},
   "outputs": [],
   "source": []
  }
 ],
 "metadata": {
  "kernelspec": {
   "display_name": "Python 3",
   "language": "python",
   "name": "python3"
  },
  "language_info": {
   "codemirror_mode": {
    "name": "ipython",
    "version": 3
   },
   "file_extension": ".py",
   "mimetype": "text/x-python",
   "name": "python",
   "nbconvert_exporter": "python",
   "pygments_lexer": "ipython3",
   "version": "3.9.1"
  }
 },
 "nbformat": 4,
 "nbformat_minor": 5
}
