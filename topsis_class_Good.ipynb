{
 "cells": [
  {
   "cell_type": "code",
   "execution_count": 1,
   "id": "differential-gospel",
   "metadata": {},
   "outputs": [],
   "source": [
    "import numpy as np\n",
    "import pandas as pd"
   ]
  },
  {
   "cell_type": "code",
   "execution_count": 2,
   "id": "finite-setup",
   "metadata": {},
   "outputs": [],
   "source": [
    "# read .csv file\n",
    "df = pd.read_csv('../Desktop/vendorChoose.csv',encoding = 'big5') "
   ]
  },
  {
   "cell_type": "code",
   "execution_count": 247,
   "id": "suspected-musical",
   "metadata": {},
   "outputs": [],
   "source": [
    "class Topsis:\n",
    "    \"\"\" Define a TOPSIS decision making process\n",
    "    TOPSIS (Technique for Order Preference by Similarity to an Ideal Solution)\n",
    "    chooses and ranks alternatives of shortest distance from the ideal solution\n",
    "    \"\"\"\n",
    "    C = None\n",
    "    good_choice = None\n",
    "    bad_choice = None\n",
    "    good_idx_arr = []\n",
    "    bad_idx_arr = []\n",
    "    count_good = 0\n",
    "    count_bad = 0\n",
    "\n",
    "    def __init__(self, a, w, I):\n",
    "        \"\"\" Initialise topsis object with alternatives (a), weighting (w),\n",
    "        and benefit/cost indicator (i). Validate the user input for correct\n",
    "        dimensions etc.\n",
    "\n",
    "        :param np.ndarray a: A 2D array of shape (J,n)\n",
    "        :param np.ndarray w: A 1D array of shape (J)\n",
    "        :param np.ndarray I: A 1D array of shape (n)\n",
    "        \"\"\"\n",
    "        # Decision Matrix\n",
    "        self.a = np.array(a, dtype=np.float).T\n",
    "        assert len(self.a.shape) == 2, \"Decision matrix a must be 2D\"\n",
    "\n",
    "        # Number of alternatives, aspects\n",
    "        (self.n, self.J) = self.a.shape\n",
    "\n",
    "        # Weight matrix\n",
    "        self.w = np.array(w, dtype=np.float)\n",
    "        assert len(self.w.shape) == 1, \"Weights array must be 1D\"\n",
    "        assert self.w.size == self.n, \"Weights array wrong length, \" + \\\n",
    "                                      \"should be of length {}\".format(self.n)\n",
    "\n",
    "        # Normalise weights to 1\n",
    "        self.w = self.w/sum(self.w)\n",
    "\n",
    "        # Benefit (True) or Cost (False) criteria?\n",
    "        self.I = np.array(I, dtype=np.int8)\n",
    "        assert len(self.I.shape) == 1, \"Criterion array must be 1D\"\n",
    "        assert len(self.I) == self.n, \"Criterion array wrong length, \" + \\\n",
    "                                      \"should be of length {}\".format(self.n)\n",
    "\n",
    "        # Initialise best/worst alternatives lists\n",
    "        ab, aw = np.zeros(self.n), np.zeros(self.n)\n",
    "   \n",
    "    \n",
    "    def __repr__(self):\n",
    "        \"\"\" What to print when the object is called?\n",
    "        \"\"\"\n",
    "        # If good choice not yet calculated, start the calculation!\n",
    "        if self.good_choice == None:\n",
    "            self.calc()\n",
    "        good_idx = self.good_idx_arr\n",
    "        \n",
    "        garr_total = []\n",
    "        \n",
    "        for idx in good_idx:\n",
    "            garr_total.append([idx, self.a[:, idx].tolist()])\n",
    "        \n",
    "        return \"\\n\".join(('Best alternative\\n'+'a{}: {}'.format(idx[1][0], idx[1][1])) for idx in enumerate(garr_total))\n",
    "        \n",
    "    \n",
    "    def step1(self):\n",
    "        \"\"\" TOPSIS Step 1\n",
    "        Calculate the normalised decision matrix (self.r)\n",
    "        \"\"\"\n",
    "        self.r = self.a/np.array(np.linalg.norm(self.a, axis=1)[:, np.newaxis])\n",
    "        return\n",
    "    \n",
    "    \n",
    "    def step2(self):\n",
    "        \"\"\" TOPSIS Step 2\n",
    "        Calculate the weighted normalised decision matrix\n",
    "        Two transposes required so that indices are multiplied correctly:\n",
    "        \"\"\"\n",
    "        self.v = (self.w * self.r.T).T\n",
    "        return\n",
    "    \n",
    "    \n",
    "    def step3(self):\n",
    "        \"\"\" TOPSIS Step 3\n",
    "        Determine the ideal and negative-ideal solutions\n",
    "        I[i] defines i as a member of the benefit criteria (True) or the cost\n",
    "        criteria (False)\n",
    "        \"\"\"\n",
    "        # Calcualte ideal/negative ideals\n",
    "        self.ab = np.max(self.v, axis=1) * self.I + \\\n",
    "                  np.min(self.v, axis=1) * (1 - self.I)\n",
    "        self.aw = np.max(self.v, axis=1) * (1 - self.I) +  \\\n",
    "                  np.min(self.v, axis=1) * self.I\n",
    "        return\n",
    "   \n",
    "    \n",
    "    def step4(self):\n",
    "        \"\"\" TOPSIS Step 4\n",
    "        Calculate the separation measures, n-dimensional Euclidean distance\n",
    "        \"\"\"\n",
    "        # Create two n long arrays containing Eculidean distances\n",
    "        # Save the ideal and negative-ideal solutions\n",
    "        self.db = np.linalg.norm(self.v - self.ab[:,np.newaxis], axis=0)\n",
    "        self.dw = np.linalg.norm(self.v - self.aw[:,np.newaxis], axis=0)\n",
    "        return\n",
    "    \n",
    "\n",
    "    def step5(self):\n",
    "        \"\"\" TOPSIS Step 5 & 6\n",
    "        Calculate the relative closeness to the ideal solution, then rank the\n",
    "        preference order\n",
    "        \"\"\"\n",
    "        # Ignore division by zero errors\n",
    "        #np.seterr(all='ignore')\n",
    "        # Find relative closeness\n",
    "        self.C = self.dw / (self.dw + self.db)\n",
    "        get_length = len(self.C) # get eg. [1, 0.33, 0.33, 0.33]\n",
    "        \n",
    "        self.good_choice = self.C.argsort()[-1] # get the idx of C\n",
    "        \n",
    "        for i in range(get_length):\n",
    "            if self.C[i] == self.C[self.good_choice]: #convert np.int to int  \n",
    "                self.count_good += 1\n",
    "                self.good_idx_arr.append(i)\n",
    "        if self.count_good == 0:\n",
    "            self.good_idx_arr.append(self.good_choice)\n",
    "        \n",
    "        self.bad_choice = self.C.argsort()[0]\n",
    "        for i in range(get_length):\n",
    "            if self.C[i] == self.C[self.bad_choice]: #convert np.int to int  \n",
    "                self.count_bad += 1\n",
    "                self.bad_idx_arr.append(i)\n",
    "        if self.count_bad == 0:\n",
    "            self.bad_idx_arr.append(self.bad_choice)\n",
    "        return\n",
    "   \n",
    "    \n",
    "    def calc(self):\n",
    "        \"\"\" TOPSIS Calculations\n",
    "        This can be called once the object is initialised, and is\n",
    "        automatically called when a representation of topsis is\n",
    "        needed (eg. print(topsis(matrix, weights, I)). This calls each step in\n",
    "        TOPSIS algorithm and stores calcultions in self.\n",
    "\n",
    "        The good alternatives index (starting at 0) is saved in\n",
    "        self.good_choice\n",
    "        \"\"\"\n",
    "        self.step1()\n",
    "        self.step2()\n",
    "        self.step3()\n",
    "        self.step4()\n",
    "        self.step5()\n",
    "        return\n",
    "\n"
   ]
  },
  {
   "cell_type": "code",
   "execution_count": 248,
   "id": "exciting-laptop",
   "metadata": {},
   "outputs": [],
   "source": [
    "topsis1 = Topsis([[1,3,4,5,6],[1,2,3,4,6],[1,2,3,3,6],[1,1,1,1,6],[1,1,1,1,6]]\n",
    "                 , [1,1,1,1,0], [1,1,0,0,1])"
   ]
  },
  {
   "cell_type": "code",
   "execution_count": 249,
   "id": "technical-anxiety",
   "metadata": {},
   "outputs": [
    {
     "data": {
      "text/plain": [
       "Best alternative\n",
       "a3: [1.0, 1.0, 1.0, 1.0, 6.0]\n",
       "Best alternative\n",
       "a4: [1.0, 1.0, 1.0, 1.0, 6.0]"
      ]
     },
     "execution_count": 249,
     "metadata": {},
     "output_type": "execute_result"
    }
   ],
   "source": [
    "topsis1\n"
   ]
  },
  {
   "cell_type": "code",
   "execution_count": 250,
   "id": "supreme-brooklyn",
   "metadata": {},
   "outputs": [],
   "source": [
    "# read .csv file\n",
    "df = pd.read_csv('../Desktop/vendorChoose.csv',encoding = 'big5') "
   ]
  },
  {
   "cell_type": "code",
   "execution_count": 251,
   "id": "radio-feedback",
   "metadata": {},
   "outputs": [],
   "source": [
    "# Create an empty list \n",
    "Row_list =[] \n",
    "Name_list = []\n",
    "my_list = []\n",
    "count_col = df.shape[1] #總共幾行(包括第一行的名稱)\n",
    "  \n",
    "# Iterate over each row \n",
    "for index, rows in df.iterrows(): \n",
    "    # Create list for the current row \n",
    "    if my_list == []:\n",
    "        for j in range(1,count_col,1):\n",
    "            my_list.append(rows[j])\n",
    "    else:\n",
    "        my_list = []\n",
    "        for j in range(1,count_col,1):\n",
    "            my_list.append(rows[j])\n",
    "    #my_list =[rows[1], rows[2], rows[3], rows[4]]\n",
    "\n",
    "    # append the list to the final list \n",
    "    Row_list.append(my_list)\n",
    "    Name_list.append(rows[0])"
   ]
  },
  {
   "cell_type": "code",
   "execution_count": 252,
   "id": "comparable-twins",
   "metadata": {},
   "outputs": [
    {
     "data": {
      "text/plain": [
       "[[90, 10, 100, 100, 100],\n",
       " [90, 10, 100, 100, 100],\n",
       " [80, 30, 200, 80, 100],\n",
       " [70, 30, 200, 80, 100],\n",
       " [60, 40, 200, 80, 100],\n",
       " [60, 40, 200, 80, 10]]"
      ]
     },
     "execution_count": 252,
     "metadata": {},
     "output_type": "execute_result"
    }
   ],
   "source": [
    "Row_list"
   ]
  },
  {
   "cell_type": "code",
   "execution_count": 253,
   "id": "blessed-intelligence",
   "metadata": {},
   "outputs": [],
   "source": [
    "topsis2 = Topsis(Row_list, [1,1,1,1,0], [1,1,0,0,1])"
   ]
  },
  {
   "cell_type": "code",
   "execution_count": 254,
   "id": "about-florence",
   "metadata": {},
   "outputs": [
    {
     "data": {
      "text/plain": [
       "Best alternative\n",
       "a3: [70.0, 30.0, 200.0, 80.0, 100.0]\n",
       "Best alternative\n",
       "a4: [60.0, 40.0, 200.0, 80.0, 100.0]\n",
       "Best alternative\n",
       "a4: [60.0, 40.0, 200.0, 80.0, 100.0]\n",
       "Best alternative\n",
       "a5: [60.0, 40.0, 200.0, 80.0, 10.0]"
      ]
     },
     "execution_count": 254,
     "metadata": {},
     "output_type": "execute_result"
    }
   ],
   "source": [
    "topsis2"
   ]
  },
  {
   "cell_type": "code",
   "execution_count": null,
   "id": "recognized-convenience",
   "metadata": {},
   "outputs": [],
   "source": []
  }
 ],
 "metadata": {
  "kernelspec": {
   "display_name": "Python 3",
   "language": "python",
   "name": "python3"
  },
  "language_info": {
   "codemirror_mode": {
    "name": "ipython",
    "version": 3
   },
   "file_extension": ".py",
   "mimetype": "text/x-python",
   "name": "python",
   "nbconvert_exporter": "python",
   "pygments_lexer": "ipython3",
   "version": "3.9.1"
  }
 },
 "nbformat": 4,
 "nbformat_minor": 5
}
