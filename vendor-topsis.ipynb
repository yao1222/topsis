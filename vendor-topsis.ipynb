{
 "cells": [
  {
   "cell_type": "markdown",
   "id": "fourth-congo",
   "metadata": {},
   "source": [
    "# Vendor"
   ]
  },
  {
   "cell_type": "code",
   "execution_count": 1,
   "id": "central-conclusion",
   "metadata": {},
   "outputs": [],
   "source": [
    "import numpy as np\n",
    "import pandas as pd"
   ]
  },
  {
   "cell_type": "code",
   "execution_count": 44,
   "id": "painted-adoption",
   "metadata": {},
   "outputs": [
    {
     "data": {
      "text/html": [
       "<div>\n",
       "<style scoped>\n",
       "    .dataframe tbody tr th:only-of-type {\n",
       "        vertical-align: middle;\n",
       "    }\n",
       "\n",
       "    .dataframe tbody tr th {\n",
       "        vertical-align: top;\n",
       "    }\n",
       "\n",
       "    .dataframe thead th {\n",
       "        text-align: right;\n",
       "    }\n",
       "</style>\n",
       "<table border=\"1\" class=\"dataframe\">\n",
       "  <thead>\n",
       "    <tr style=\"text-align: right;\">\n",
       "      <th></th>\n",
       "      <th>品質</th>\n",
       "      <th>交期</th>\n",
       "      <th>價格</th>\n",
       "      <th>服務</th>\n",
       "    </tr>\n",
       "  </thead>\n",
       "  <tbody>\n",
       "    <tr>\n",
       "      <th>Vendor A</th>\n",
       "      <td>1.8</td>\n",
       "      <td>1</td>\n",
       "      <td>0</td>\n",
       "      <td>90</td>\n",
       "    </tr>\n",
       "    <tr>\n",
       "      <th>Vendor B</th>\n",
       "      <td>1.5</td>\n",
       "      <td>6</td>\n",
       "      <td>10</td>\n",
       "      <td>72</td>\n",
       "    </tr>\n",
       "    <tr>\n",
       "      <th>Vendor C</th>\n",
       "      <td>1.0</td>\n",
       "      <td>2</td>\n",
       "      <td>18</td>\n",
       "      <td>65</td>\n",
       "    </tr>\n",
       "    <tr>\n",
       "      <th>Vendor D</th>\n",
       "      <td>1.4</td>\n",
       "      <td>6</td>\n",
       "      <td>8</td>\n",
       "      <td>95</td>\n",
       "    </tr>\n",
       "  </tbody>\n",
       "</table>\n",
       "</div>"
      ],
      "text/plain": [
       "           品質  交期  價格  服務\n",
       "Vendor A  1.8   1   0  90\n",
       "Vendor B  1.5   6  10  72\n",
       "Vendor C  1.0   2  18  65\n",
       "Vendor D  1.4   6   8  95"
      ]
     },
     "execution_count": 44,
     "metadata": {},
     "output_type": "execute_result"
    }
   ],
   "source": [
    "pd.DataFrame({'品質': [1.8,1.5,1.0,1.4], \n",
    "              '交期': [1,6,2,6],\n",
    "             '價格': [0,10,18,8],\n",
    "             '服務': [90,72,65,95]},\n",
    "             index=['Vendor A', 'Vendor B', 'Vendor C', 'Vendor D'])\n"
   ]
  },
  {
   "cell_type": "markdown",
   "id": "public-ivory",
   "metadata": {},
   "source": [
    "### 正規化"
   ]
  },
  {
   "cell_type": "code",
   "execution_count": 62,
   "id": "cross-windows",
   "metadata": {},
   "outputs": [
    {
     "name": "stdout",
     "output_type": "stream",
     "text": [
      "[[ 1.8  1.5  1.   1.4]\n",
      " [ 1.   6.   2.   6. ]\n",
      " [ 0.  10.  18.   8. ]\n",
      " [90.  72.  65.  95. ]]\n"
     ]
    },
    {
     "data": {
      "text/html": [
       "<div>\n",
       "<style scoped>\n",
       "    .dataframe tbody tr th:only-of-type {\n",
       "        vertical-align: middle;\n",
       "    }\n",
       "\n",
       "    .dataframe tbody tr th {\n",
       "        vertical-align: top;\n",
       "    }\n",
       "\n",
       "    .dataframe thead th {\n",
       "        text-align: right;\n",
       "    }\n",
       "</style>\n",
       "<table border=\"1\" class=\"dataframe\">\n",
       "  <thead>\n",
       "    <tr style=\"text-align: right;\">\n",
       "      <th></th>\n",
       "      <th>品質</th>\n",
       "      <th>交期</th>\n",
       "      <th>價格</th>\n",
       "      <th>服務</th>\n",
       "    </tr>\n",
       "  </thead>\n",
       "  <tbody>\n",
       "    <tr>\n",
       "      <th>Vendor A</th>\n",
       "      <td>1.8</td>\n",
       "      <td>1</td>\n",
       "      <td>0</td>\n",
       "      <td>90</td>\n",
       "    </tr>\n",
       "    <tr>\n",
       "      <th>Vendor B</th>\n",
       "      <td>1.5</td>\n",
       "      <td>6</td>\n",
       "      <td>10</td>\n",
       "      <td>72</td>\n",
       "    </tr>\n",
       "    <tr>\n",
       "      <th>Vendor C</th>\n",
       "      <td>1.0</td>\n",
       "      <td>2</td>\n",
       "      <td>18</td>\n",
       "      <td>65</td>\n",
       "    </tr>\n",
       "    <tr>\n",
       "      <th>Vendor D</th>\n",
       "      <td>1.4</td>\n",
       "      <td>6</td>\n",
       "      <td>8</td>\n",
       "      <td>95</td>\n",
       "    </tr>\n",
       "  </tbody>\n",
       "</table>\n",
       "</div>"
      ],
      "text/plain": [
       "           品質  交期  價格  服務\n",
       "Vendor A  1.8   1   0  90\n",
       "Vendor B  1.5   6  10  72\n",
       "Vendor C  1.0   2  18  65\n",
       "Vendor D  1.4   6   8  95"
      ]
     },
     "execution_count": 62,
     "metadata": {},
     "output_type": "execute_result"
    }
   ],
   "source": [
    "df = pd.DataFrame({'品質': [1.8,1.5,1.0,1.4], \n",
    "              '交期': [1,6,2,6],\n",
    "             '價格': [0,10,18,8],\n",
    "             '服務': [90,72,65,95]},\n",
    "             index=['Vendor A', 'Vendor B', 'Vendor C', 'Vendor D'])\n",
    "a = df.values\n",
    "aT = a.T\n",
    "print(aT)\n",
    "pd.DataFrame(df)"
   ]
  },
  {
   "cell_type": "code",
   "execution_count": 46,
   "id": "secondary-princeton",
   "metadata": {},
   "outputs": [
    {
     "name": "stdout",
     "output_type": "stream",
     "text": [
      "(4, 4)\n",
      "16\n",
      "4\n"
     ]
    }
   ],
   "source": [
    "# Number of alternatives, aspects\n",
    "(n, J) = a.shape\n",
    "print((n,J))\n",
    "print(a.size)\n",
    "print(n)"
   ]
  },
  {
   "cell_type": "code",
   "execution_count": 55,
   "id": "timely-marshall",
   "metadata": {},
   "outputs": [
    {
     "name": "stdout",
     "output_type": "stream",
     "text": [
      "       0\n",
      "0  1.000\n",
      "1  0.625\n",
      "2  0.000\n",
      "3  0.500\n"
     ]
    }
   ],
   "source": [
    "b=pd.DataFrame([1.8,1.5,1.,1.4])\n",
    "amin, amax = b.min(), b.max() # 求最大最小值\n",
    "b = (b-amin)/(amax-amin) # (矩阵元素-最小值)/(最大值-最小值)\n",
    "print(b)"
   ]
  },
  {
   "cell_type": "code",
   "execution_count": 59,
   "id": "spectacular-mitchell",
   "metadata": {},
   "outputs": [
    {
     "name": "stdout",
     "output_type": "stream",
     "text": [
      "<class 'numpy.ndarray'>\n"
     ]
    }
   ],
   "source": [
    "print(type(aT))\n"
   ]
  },
  {
   "cell_type": "code",
   "execution_count": 61,
   "id": "therapeutic-prince",
   "metadata": {},
   "outputs": [
    {
     "data": {
      "text/plain": [
       "0.5160156871153361"
      ]
     },
     "execution_count": 61,
     "metadata": {},
     "output_type": "execute_result"
    }
   ],
   "source": [
    "1.5/((1.8*1.8+1.5*1.5+1*1+1.4*1.4)**0.5)"
   ]
  },
  {
   "cell_type": "code",
   "execution_count": 63,
   "id": "statutory-operation",
   "metadata": {},
   "outputs": [],
   "source": []
  },
  {
   "cell_type": "code",
   "execution_count": null,
   "id": "sought-corpus",
   "metadata": {},
   "outputs": [],
   "source": []
  }
 ],
 "metadata": {
  "kernelspec": {
   "display_name": "Python 3",
   "language": "python",
   "name": "python3"
  },
  "language_info": {
   "codemirror_mode": {
    "name": "ipython",
    "version": 3
   },
   "file_extension": ".py",
   "mimetype": "text/x-python",
   "name": "python",
   "nbconvert_exporter": "python",
   "pygments_lexer": "ipython3",
   "version": "3.8.5"
  }
 },
 "nbformat": 4,
 "nbformat_minor": 5
}
